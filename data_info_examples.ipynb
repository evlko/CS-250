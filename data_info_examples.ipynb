{
 "cells": [
  {
   "cell_type": "code",
   "execution_count": 1,
   "outputs": [
    {
     "name": "stderr",
     "output_type": "stream",
     "text": [
      "/Users/eispoohw/University/PythonForDataAnalysis/venv/lib/python3.9/site-packages/urllib3/__init__.py:34: NotOpenSSLWarning: urllib3 v2.0 only supports OpenSSL 1.1.1+, currently the 'ssl' module is compiled with 'LibreSSL 2.8.3'. See: https://github.com/urllib3/urllib3/issues/3020\n",
      "  warnings.warn(\n"
     ]
    }
   ],
   "source": [
    "from utils.data_collector import OPITMODataCollector\n",
    "from utils.data_extractor import DataExtractor\n",
    "from utils.data_info import DataInfo"
   ],
   "metadata": {
    "collapsed": false
   }
  },
  {
   "cell_type": "code",
   "execution_count": 2,
   "metadata": {
    "collapsed": true
   },
   "outputs": [],
   "source": [
    "data_collector = OPITMODataCollector('.env')\n",
    "all_details = data_collector.get_data('data/all_details', file_type='json')"
   ]
  },
  {
   "cell_type": "code",
   "execution_count": 3,
   "outputs": [
    {
     "data": {
      "text/plain": "13"
     },
     "execution_count": 3,
     "metadata": {},
     "output_type": "execute_result"
    }
   ],
   "source": [
    "data_extractor = DataExtractor(all_details)\n",
    "len(data_extractor.dfs)"
   ],
   "metadata": {
    "collapsed": false
   }
  },
  {
   "cell_type": "code",
   "execution_count": 4,
   "outputs": [],
   "source": [
    "dig = DataInfo.data_info_gen(data_extractor.dfs)"
   ],
   "metadata": {
    "collapsed": false
   }
  },
  {
   "cell_type": "code",
   "execution_count": 5,
   "outputs": [
    {
     "name": "stdout",
     "output_type": "stream",
     "text": [
      "academic_plans\n"
     ]
    },
    {
     "data": {
      "text/plain": "                                          id  \\\ntype                                   int64   \nnotnull                                  598   \ncount                                    598   \nfullness                                 1.0   \nunique_values_count                      598   \nunique_values        too many values to show   \nmin_value                               6796   \nmax_value                               7505   \n\n                                                   educational_profile  \\\ntype                                                            object   \nnotnull                                                              3   \ncount                                                              598   \nfullness                                                         0.005   \nunique_values_count                                                  4   \nunique_values        None; План Б; Прикладной искусственный интелле...   \nmin_value                                                          NaN   \nmax_value                                                          NaN   \n\n                               approval_date        year  education_form  \\\ntype                                  object      object          object   \nnotnull                                  598           4               3   \ncount                                    598         598             598   \nfullness                                 1.0      0.0067           0.005   \nunique_values_count                      598           2               2   \nunique_values        too many values to show  None; 2023  None; internal   \nmin_value                                NaN         NaN             NaN   \nmax_value                                NaN         NaN             NaN   \n\n                              qualification              author  \\\ntype                                 object             float64   \nnotnull                                   9                   3   \ncount                                   598                 598   \nfullness                             0.0151               0.005   \nunique_values_count                       3                   3   \nunique_values        None; master; bachelor  nan; 4680.0; 255.0   \nmin_value                               NaN               255.0   \nmax_value                               NaN              4680.0   \n\n                                   ap_isu_id                     on_check  \\\ntype                                 float64                       object   \nnotnull                                  595                          598   \ncount                                    598                          598   \nfullness                               0.995                          1.0   \nunique_values_count                      595                            3   \nunique_values        too many values to show  in_work; on_check; verified   \nmin_value                             9837.0                          NaN   \nmax_value                            28389.0                          NaN   \n\n                               laboriousness can_edit can_validate  \\\ntype                                   int64     bool         bool   \nnotnull                                  598      598          598   \ncount                                    598      598          598   \nfullness                                 1.0      1.0          1.0   \nunique_values_count                      249        1            1   \nunique_values        too many values to show    False        False   \nmin_value                                  0      NaN          NaN   \nmax_value                               1083      NaN          NaN   \n\n                    was_send_to_isu rating  \\\ntype                           bool   bool   \nnotnull                         598    598   \ncount                           598    598   \nfullness                        1.0    1.0   \nunique_values_count               2      1   \nunique_values           False; True  False   \nmin_value                       NaN    NaN   \nmax_value                       NaN    NaN   \n\n                    discipline_blocks_in_academic_plan_id  \\\ntype                                               object   \nnotnull                                               598   \ncount                                                 598   \nfullness                                              1.0   \nunique_values_count                            unhashable   \nunique_values                                  unhashable   \nmin_value                                             NaN   \nmax_value                                             NaN   \n\n                    academic_plan_in_field_of_study_id  \ntype                                             int64  \nnotnull                                            598  \ncount                                              598  \nfullness                                           1.0  \nunique_values_count                                598  \nunique_values                  too many values to show  \nmin_value                                         6859  \nmax_value                                         7658  ",
      "text/html": "<div>\n<style scoped>\n    .dataframe tbody tr th:only-of-type {\n        vertical-align: middle;\n    }\n\n    .dataframe tbody tr th {\n        vertical-align: top;\n    }\n\n    .dataframe thead th {\n        text-align: right;\n    }\n</style>\n<table border=\"1\" class=\"dataframe\">\n  <thead>\n    <tr style=\"text-align: right;\">\n      <th></th>\n      <th>id</th>\n      <th>educational_profile</th>\n      <th>approval_date</th>\n      <th>year</th>\n      <th>education_form</th>\n      <th>qualification</th>\n      <th>author</th>\n      <th>ap_isu_id</th>\n      <th>on_check</th>\n      <th>laboriousness</th>\n      <th>can_edit</th>\n      <th>can_validate</th>\n      <th>was_send_to_isu</th>\n      <th>rating</th>\n      <th>discipline_blocks_in_academic_plan_id</th>\n      <th>academic_plan_in_field_of_study_id</th>\n    </tr>\n  </thead>\n  <tbody>\n    <tr>\n      <th>type</th>\n      <td>int64</td>\n      <td>object</td>\n      <td>object</td>\n      <td>object</td>\n      <td>object</td>\n      <td>object</td>\n      <td>float64</td>\n      <td>float64</td>\n      <td>object</td>\n      <td>int64</td>\n      <td>bool</td>\n      <td>bool</td>\n      <td>bool</td>\n      <td>bool</td>\n      <td>object</td>\n      <td>int64</td>\n    </tr>\n    <tr>\n      <th>notnull</th>\n      <td>598</td>\n      <td>3</td>\n      <td>598</td>\n      <td>4</td>\n      <td>3</td>\n      <td>9</td>\n      <td>3</td>\n      <td>595</td>\n      <td>598</td>\n      <td>598</td>\n      <td>598</td>\n      <td>598</td>\n      <td>598</td>\n      <td>598</td>\n      <td>598</td>\n      <td>598</td>\n    </tr>\n    <tr>\n      <th>count</th>\n      <td>598</td>\n      <td>598</td>\n      <td>598</td>\n      <td>598</td>\n      <td>598</td>\n      <td>598</td>\n      <td>598</td>\n      <td>598</td>\n      <td>598</td>\n      <td>598</td>\n      <td>598</td>\n      <td>598</td>\n      <td>598</td>\n      <td>598</td>\n      <td>598</td>\n      <td>598</td>\n    </tr>\n    <tr>\n      <th>fullness</th>\n      <td>1.0</td>\n      <td>0.005</td>\n      <td>1.0</td>\n      <td>0.0067</td>\n      <td>0.005</td>\n      <td>0.0151</td>\n      <td>0.005</td>\n      <td>0.995</td>\n      <td>1.0</td>\n      <td>1.0</td>\n      <td>1.0</td>\n      <td>1.0</td>\n      <td>1.0</td>\n      <td>1.0</td>\n      <td>1.0</td>\n      <td>1.0</td>\n    </tr>\n    <tr>\n      <th>unique_values_count</th>\n      <td>598</td>\n      <td>4</td>\n      <td>598</td>\n      <td>2</td>\n      <td>2</td>\n      <td>3</td>\n      <td>3</td>\n      <td>595</td>\n      <td>3</td>\n      <td>249</td>\n      <td>1</td>\n      <td>1</td>\n      <td>2</td>\n      <td>1</td>\n      <td>unhashable</td>\n      <td>598</td>\n    </tr>\n    <tr>\n      <th>unique_values</th>\n      <td>too many values to show</td>\n      <td>None; План Б; Прикладной искусственный интелле...</td>\n      <td>too many values to show</td>\n      <td>None; 2023</td>\n      <td>None; internal</td>\n      <td>None; master; bachelor</td>\n      <td>nan; 4680.0; 255.0</td>\n      <td>too many values to show</td>\n      <td>in_work; on_check; verified</td>\n      <td>too many values to show</td>\n      <td>False</td>\n      <td>False</td>\n      <td>False; True</td>\n      <td>False</td>\n      <td>unhashable</td>\n      <td>too many values to show</td>\n    </tr>\n    <tr>\n      <th>min_value</th>\n      <td>6796</td>\n      <td>NaN</td>\n      <td>NaN</td>\n      <td>NaN</td>\n      <td>NaN</td>\n      <td>NaN</td>\n      <td>255.0</td>\n      <td>9837.0</td>\n      <td>NaN</td>\n      <td>0</td>\n      <td>NaN</td>\n      <td>NaN</td>\n      <td>NaN</td>\n      <td>NaN</td>\n      <td>NaN</td>\n      <td>6859</td>\n    </tr>\n    <tr>\n      <th>max_value</th>\n      <td>7505</td>\n      <td>NaN</td>\n      <td>NaN</td>\n      <td>NaN</td>\n      <td>NaN</td>\n      <td>NaN</td>\n      <td>4680.0</td>\n      <td>28389.0</td>\n      <td>NaN</td>\n      <td>1083</td>\n      <td>NaN</td>\n      <td>NaN</td>\n      <td>NaN</td>\n      <td>NaN</td>\n      <td>NaN</td>\n      <td>7658</td>\n    </tr>\n  </tbody>\n</table>\n</div>"
     },
     "execution_count": 5,
     "metadata": {},
     "output_type": "execute_result"
    }
   ],
   "source": [
    "next(dig)"
   ],
   "metadata": {
    "collapsed": false
   }
  },
  {
   "cell_type": "code",
   "execution_count": 6,
   "outputs": [
    {
     "name": "stdout",
     "output_type": "stream",
     "text": [
      "academic_plans_in_field_of_study\n"
     ]
    },
    {
     "data": {
      "text/plain": "                                          id  \\\ntype                                   int64   \nnotnull                                  599   \ncount                                    599   \nfullness                                 1.0   \nunique_values_count                      598   \nunique_values        too many values to show   \nmin_value                               6859   \nmax_value                               7658   \n\n                                                   year  \\\ntype                                              int64   \nnotnull                                             599   \ncount                                               599   \nfullness                                            1.0   \nunique_values_count                                   6   \nunique_values        2018; 2020; 2019; 2021; 2022; 2023   \nmin_value                                          2018   \nmax_value                                          2023   \n\n                                    qualification                    title  \\\ntype                                       object                   object   \nnotnull                                       599                      599   \ncount                                         599                      599   \nfullness                                      1.0                      1.0   \nunique_values_count                             3                      226   \nunique_values        bachelor; master; specialist  too many values to show   \nmin_value                                     NaN                      NaN   \nmax_value                                     NaN                      NaN   \n\n                         plan_type training_period total_intensity  \\\ntype                        object           int64           int64   \nnotnull                        599             599             599   \ncount                          599             599             599   \nfullness                       1.0             1.0             1.0   \nunique_values_count              2               3               3   \nunique_values        base; Базовый         0; 4; 2     0; 240; 120   \nmin_value                      NaN               0               0   \nmax_value                      NaN               4             240   \n\n                    military_department university_partner  \\\ntype                               bool             object   \nnotnull                             599                599   \ncount                               599                599   \nfullness                            1.0                1.0   \nunique_values_count                   2         unhashable   \nunique_values               False; True         unhashable   \nmin_value                           NaN                NaN   \nmax_value                           NaN                NaN   \n\n                           field_of_study_id  editors_id  \\\ntype                                 float64      object   \nnotnull                                  596         335   \ncount                                    599         599   \nfullness                               0.995      0.5593   \nunique_values_count                       82  unhashable   \nunique_values        too many values to show  unhashable   \nmin_value                            15734.0         NaN   \nmax_value                            15819.0         NaN   \n\n                          structural_unit_id  \ntype                                 float64  \nnotnull                                  133  \ncount                                    599  \nfullness                               0.222  \nunique_values_count                       28  \nunique_values        too many values to show  \nmin_value                                1.0  \nmax_value                               65.0  ",
      "text/html": "<div>\n<style scoped>\n    .dataframe tbody tr th:only-of-type {\n        vertical-align: middle;\n    }\n\n    .dataframe tbody tr th {\n        vertical-align: top;\n    }\n\n    .dataframe thead th {\n        text-align: right;\n    }\n</style>\n<table border=\"1\" class=\"dataframe\">\n  <thead>\n    <tr style=\"text-align: right;\">\n      <th></th>\n      <th>id</th>\n      <th>year</th>\n      <th>qualification</th>\n      <th>title</th>\n      <th>plan_type</th>\n      <th>training_period</th>\n      <th>total_intensity</th>\n      <th>military_department</th>\n      <th>university_partner</th>\n      <th>field_of_study_id</th>\n      <th>editors_id</th>\n      <th>structural_unit_id</th>\n    </tr>\n  </thead>\n  <tbody>\n    <tr>\n      <th>type</th>\n      <td>int64</td>\n      <td>int64</td>\n      <td>object</td>\n      <td>object</td>\n      <td>object</td>\n      <td>int64</td>\n      <td>int64</td>\n      <td>bool</td>\n      <td>object</td>\n      <td>float64</td>\n      <td>object</td>\n      <td>float64</td>\n    </tr>\n    <tr>\n      <th>notnull</th>\n      <td>599</td>\n      <td>599</td>\n      <td>599</td>\n      <td>599</td>\n      <td>599</td>\n      <td>599</td>\n      <td>599</td>\n      <td>599</td>\n      <td>599</td>\n      <td>596</td>\n      <td>335</td>\n      <td>133</td>\n    </tr>\n    <tr>\n      <th>count</th>\n      <td>599</td>\n      <td>599</td>\n      <td>599</td>\n      <td>599</td>\n      <td>599</td>\n      <td>599</td>\n      <td>599</td>\n      <td>599</td>\n      <td>599</td>\n      <td>599</td>\n      <td>599</td>\n      <td>599</td>\n    </tr>\n    <tr>\n      <th>fullness</th>\n      <td>1.0</td>\n      <td>1.0</td>\n      <td>1.0</td>\n      <td>1.0</td>\n      <td>1.0</td>\n      <td>1.0</td>\n      <td>1.0</td>\n      <td>1.0</td>\n      <td>1.0</td>\n      <td>0.995</td>\n      <td>0.5593</td>\n      <td>0.222</td>\n    </tr>\n    <tr>\n      <th>unique_values_count</th>\n      <td>598</td>\n      <td>6</td>\n      <td>3</td>\n      <td>226</td>\n      <td>2</td>\n      <td>3</td>\n      <td>3</td>\n      <td>2</td>\n      <td>unhashable</td>\n      <td>82</td>\n      <td>unhashable</td>\n      <td>28</td>\n    </tr>\n    <tr>\n      <th>unique_values</th>\n      <td>too many values to show</td>\n      <td>2018; 2020; 2019; 2021; 2022; 2023</td>\n      <td>bachelor; master; specialist</td>\n      <td>too many values to show</td>\n      <td>base; Базовый</td>\n      <td>0; 4; 2</td>\n      <td>0; 240; 120</td>\n      <td>False; True</td>\n      <td>unhashable</td>\n      <td>too many values to show</td>\n      <td>unhashable</td>\n      <td>too many values to show</td>\n    </tr>\n    <tr>\n      <th>min_value</th>\n      <td>6859</td>\n      <td>2018</td>\n      <td>NaN</td>\n      <td>NaN</td>\n      <td>NaN</td>\n      <td>0</td>\n      <td>0</td>\n      <td>NaN</td>\n      <td>NaN</td>\n      <td>15734.0</td>\n      <td>NaN</td>\n      <td>1.0</td>\n    </tr>\n    <tr>\n      <th>max_value</th>\n      <td>7658</td>\n      <td>2023</td>\n      <td>NaN</td>\n      <td>NaN</td>\n      <td>NaN</td>\n      <td>4</td>\n      <td>240</td>\n      <td>NaN</td>\n      <td>NaN</td>\n      <td>15819.0</td>\n      <td>NaN</td>\n      <td>65.0</td>\n    </tr>\n  </tbody>\n</table>\n</div>"
     },
     "execution_count": 6,
     "metadata": {},
     "output_type": "execute_result"
    }
   ],
   "source": [
    "next(dig)"
   ],
   "metadata": {
    "collapsed": false
   }
  }
 ],
 "metadata": {
  "kernelspec": {
   "display_name": "Python 3",
   "language": "python",
   "name": "python3"
  },
  "language_info": {
   "codemirror_mode": {
    "name": "ipython",
    "version": 2
   },
   "file_extension": ".py",
   "mimetype": "text/x-python",
   "name": "python",
   "nbconvert_exporter": "python",
   "pygments_lexer": "ipython2",
   "version": "2.7.6"
  }
 },
 "nbformat": 4,
 "nbformat_minor": 0
}
