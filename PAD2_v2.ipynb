{
 "nbformat": 4,
 "nbformat_minor": 0,
 "metadata": {
  "colab": {
   "provenance": []
  },
  "kernelspec": {
   "name": "python3",
   "display_name": "Python 3"
  }
 },
 "cells": [
  {
   "cell_type": "markdown",
   "source": [
    "# Упражнение 2. Качество данных"
   ],
   "metadata": {
    "id": "eynQNPljDZiT"
   }
  },
  {
   "cell_type": "markdown",
   "source": [
    "## Utils"
   ],
   "metadata": {
    "id": "0sdIdmQEjF1g"
   }
  },
  {
   "cell_type": "code",
   "source": [
    "import pandas as pd\n",
    "import utils.scd as scd\n",
    "from datetime import date, datetime, timedelta\n",
    "import warnings\n",
    "\n",
    "warnings.filterwarnings('ignore', message=\"registration of accessor <class '__main__.CustomAccessor'>\")\n",
    "warnings.filterwarnings('ignore', message=\"registration of accessor <class '__main__.SCD'>\")\n",
    "warnings.simplefilter(action='ignore', category=FutureWarning)"
   ],
   "metadata": {
    "id": "BXL0ATPzpx1B"
   },
   "execution_count": 6,
   "outputs": []
  },
  {
   "cell_type": "markdown",
   "source": [
    "## Задание 2.0"
   ],
   "metadata": {
    "id": "uJlXlo3cHUsa"
   }
  },
  {
   "cell_type": "markdown",
   "source": [
    "В упражнении 1 уже скачивали данные об учебных планах. Убедитесь в том, что эти данные у вас сохранились."
   ],
   "metadata": {
    "id": "jLFXDDbFWhAY"
   }
  },
  {
   "cell_type": "code",
   "source": [
    "%ls data"
   ],
   "metadata": {
    "colab": {
     "base_uri": "https://localhost:8080/"
    },
    "id": "UykCNgApl4uu",
    "outputId": "82b64216-fb0b-4374-8ec2-6c6f05191b30"
   },
   "execution_count": 1,
   "outputs": [
    {
     "name": "stdout",
     "output_type": "stream",
     "text": [
      "academic_plan_id.csv\r\n",
      "academic_plan_id.csv.dvc\r\n",
      "academic_plans.csv\r\n",
      "academic_plans.csv.dvc\r\n",
      "academic_plans_in_field_of_study.csv\r\n",
      "academic_plans_in_field_of_study.csv.dvc\r\n",
      "all_details.json\r\n",
      "all_details.json.dvc\r\n",
      "editors.csv\r\n",
      "editors.csv.dvc\r\n",
      "fields_of_study.csv\r\n",
      "fields_of_study.csv.dvc\r\n",
      "structural_units.csv\r\n",
      "structural_units.csv.dvc\r\n"
     ]
    }
   ]
  },
  {
   "cell_type": "markdown",
   "source": [
    "## Задание 2.1 Получение данных"
   ],
   "metadata": {
    "id": "co5e9ZLAFFm7"
   }
  },
  {
   "cell_type": "code",
   "source": [
    "from utils.data_collector import OPITMODataCollector\n",
    "\n",
    "data_collector = OPITMODataCollector()"
   ],
   "metadata": {
    "id": "UEvB5aGRqVqR"
   },
   "execution_count": 4,
   "outputs": []
  },
  {
   "cell_type": "markdown",
   "source": [
    "Идентификаторы всех учебных планов, имеющихся в op.itmo.ru"
   ],
   "metadata": {
    "id": "d-k6MTvqWziD"
   }
  },
  {
   "cell_type": "code",
   "source": [
    "# Get new ids from API:\n",
    "# ids = data_collector.get_academic_plans_ids()\n",
    "# ids = list(ids)\n",
    "\n",
    "# User stored ids in DVC:\n",
    "ids = data_collector.get_data('data/academic_plan_id')['academic_plan_id'].tolist()"
   ],
   "metadata": {
    "id": "ZTMIWINHqkUH"
   },
   "execution_count": 3,
   "outputs": [
    {
     "name": "stdout",
     "output_type": "stream",
     "text": [
      "Found 60 pages\n",
      "Collecting pages: ||||||||||||||||||||||||||||||||||||||||||||||||||||||||||||"
     ]
    }
   ]
  },
  {
   "cell_type": "code",
   "execution_count": 7,
   "outputs": [
    {
     "data": {
      "text/plain": "     academic_plan_id\n0                6796\n1                6797\n2                6798\n3                6799\n4                6800\n..                ...\n592              7501\n593              7502\n594              7503\n595              7504\n596              7505\n\n[597 rows x 1 columns]",
      "text/html": "<div>\n<style scoped>\n    .dataframe tbody tr th:only-of-type {\n        vertical-align: middle;\n    }\n\n    .dataframe tbody tr th {\n        vertical-align: top;\n    }\n\n    .dataframe thead th {\n        text-align: right;\n    }\n</style>\n<table border=\"1\" class=\"dataframe\">\n  <thead>\n    <tr style=\"text-align: right;\">\n      <th></th>\n      <th>academic_plan_id</th>\n    </tr>\n  </thead>\n  <tbody>\n    <tr>\n      <th>0</th>\n      <td>6796</td>\n    </tr>\n    <tr>\n      <th>1</th>\n      <td>6797</td>\n    </tr>\n    <tr>\n      <th>2</th>\n      <td>6798</td>\n    </tr>\n    <tr>\n      <th>3</th>\n      <td>6799</td>\n    </tr>\n    <tr>\n      <th>4</th>\n      <td>6800</td>\n    </tr>\n    <tr>\n      <th>...</th>\n      <td>...</td>\n    </tr>\n    <tr>\n      <th>592</th>\n      <td>7501</td>\n    </tr>\n    <tr>\n      <th>593</th>\n      <td>7502</td>\n    </tr>\n    <tr>\n      <th>594</th>\n      <td>7503</td>\n    </tr>\n    <tr>\n      <th>595</th>\n      <td>7504</td>\n    </tr>\n    <tr>\n      <th>596</th>\n      <td>7505</td>\n    </tr>\n  </tbody>\n</table>\n<p>597 rows × 1 columns</p>\n</div>"
     },
     "execution_count": 7,
     "metadata": {},
     "output_type": "execute_result"
    }
   ],
   "source": [
    "df_aps = pd.DataFrame(ids, columns=['academic_plan_id'])\n",
    "df_aps.custom.to_csv_with_time('academic_plan_id')\n",
    "df_aps"
   ],
   "metadata": {
    "collapsed": false
   }
  },
  {
   "cell_type": "code",
   "source": [
    "# Save collected data in DVC\n",
    "# data_collector.save_data(df_aps, 'academic_plan_id')\n",
    "\n",
    "# Or Local\n",
    "# df_aps.to_csv(f'data/ids_{time.time()}.csv')"
   ],
   "metadata": {
    "id": "pwa4DCerq2qe"
   },
   "execution_count": 8,
   "outputs": []
  },
  {
   "cell_type": "markdown",
   "source": [
    "По этим планам получить детальное описание"
   ],
   "metadata": {
    "id": "QInATqLvFX3Y"
   }
  },
  {
   "cell_type": "code",
   "source": [
    "# Update data via API:\n",
    "all_details = data_collector.get_academic_plan_details(list(ids))\n",
    "\n",
    "# User stored data in DVC:\n",
    "# all_details = data_collector.get_data('data/all_details', file_type='json')"
   ],
   "metadata": {
    "id": "PPythBr-rA3k"
   },
   "execution_count": 10,
   "outputs": [
    {
     "name": "stdout",
     "output_type": "stream",
     "text": [
      "Collecting plans: \n",
      "                ||||||||||||||||||||||||||||||||||||||||||||||||||\n",
      "                ||||||||||||||||||||||||||||||||||||||||||||||||||\n",
      "                ||||||||||||||||||||||||||||||||||||||||||||||||||\n",
      "                ||||||||||||||||||||||||||||||||||||||||||||||||||\n",
      "                ||||||||||||||||||||||||||||||||||||||||||||||||||\n",
      "                ||||||||||||||||||||||||||||||||||||||||||||||||||\n",
      "                ||||||||||||||||||||||||||||||||||||||||||||||||||\n",
      "                ||||||||||||||||||||||||||||||||||||||||||||||||||\n",
      "                ||||||||||||||||||||||||||||||||||||||||||||||||||\n",
      "                ||||||||||||||||||||||||||||||||||||||||||||||||||\n",
      "                ||||||||||||||||||||||||||||||||||||||||||||||||||\n",
      "                |||||||||||||||||||||||||||||||||||||||||||||||"
     ]
    }
   ]
  },
  {
   "cell_type": "code",
   "execution_count": 7,
   "outputs": [],
   "source": [
    "from utils.json_dict_converter import JsonDictConverter"
   ],
   "metadata": {
    "collapsed": false
   }
  },
  {
   "cell_type": "code",
   "source": [
    "# Save collected data in DVC\n",
    "# data_collector.save_data(all_details, 'all_details')\n",
    "\n",
    "# Or Local\n",
    "JsonDictConverter().to_json(all_details, json_name='data/all_details', timed=True)"
   ],
   "metadata": {
    "id": "fwiy4zCkFiQN"
   },
   "execution_count": 8,
   "outputs": []
  },
  {
   "cell_type": "markdown",
   "source": [
    "Медленно меняющиеся измерения (от англ. Slowly Changing Dimensions, SCD) — механизм отслеживания изменений в данных измерения. [Выделяют несколько типов SCD2. ](https://ru.wikipedia.org/wiki/%D0%9C%D0%B5%D0%B4%D0%BB%D0%B5%D0%BD%D0%BD%D0%BE_%D0%BC%D0%B5%D0%BD%D1%8F%D1%8E%D1%89%D0%B5%D0%B5%D1%81%D1%8F_%D0%B8%D0%B7%D0%BC%D0%B5%D1%80%D0%B5%D0%BD%D0%B8%D0%B5).\n",
    "\n",
    "Реализуйте механизм SCD2. Добавилась строка и столбцы с датой вступления изменения в силу (столбце с TRUE/FALSE необязательно)\n",
    "\n"
   ],
   "metadata": {
    "id": "Dh191yVjnTpT"
   }
  },
  {
   "cell_type": "markdown",
   "source": [
    "Мы решили добавлять колонку со статусом, чтобы отслеживать **полностью удаленные** значения."
   ],
   "metadata": {
    "id": "ULLt5FnfJALA"
   }
  },
  {
   "cell_type": "markdown",
   "source": [
    "Получаем новые данные"
   ],
   "metadata": {
    "collapsed": false
   }
  },
  {
   "cell_type": "code",
   "execution_count": 22,
   "outputs": [],
   "source": [
    "from utils.data_extractor import DataExtractor\n",
    "\n",
    "data = JsonDictConverter().from_json(\"data/all_details_24_10_2023\")\n",
    "\n",
    "new_data = DataExtractor(data)"
   ],
   "metadata": {
    "collapsed": false
   }
  },
  {
   "cell_type": "markdown",
   "source": [
    "Получаем старые данные"
   ],
   "metadata": {
    "collapsed": false
   }
  },
  {
   "cell_type": "code",
   "execution_count": 23,
   "outputs": [],
   "source": [
    "data = JsonDictConverter().from_json(\"data/all_details\")\n",
    "\n",
    "old_data = DataExtractor(data)"
   ],
   "metadata": {
    "collapsed": false
   }
  },
  {
   "cell_type": "markdown",
   "source": [
    "Старым данным добавляем функционал scd"
   ],
   "metadata": {
    "collapsed": false
   }
  },
  {
   "cell_type": "code",
   "execution_count": 24,
   "outputs": [],
   "source": [
    "for df in old_data.dfs:\n",
    "    old_data.dfs[df].scd.add_effective_date(current_date=datetime.now()-timedelta(14), inplace=True)\n",
    "    old_data.dfs[df].scd.add_status(inplace=True)"
   ],
   "metadata": {
    "collapsed": false
   }
  },
  {
   "cell_type": "markdown",
   "source": [
    "К старым данным добавляем новые данные"
   ],
   "metadata": {
    "collapsed": false
   }
  },
  {
   "cell_type": "code",
   "execution_count": 25,
   "outputs": [],
   "source": [
    "for df in old_data.dfs:\n",
    "    old_data.dfs[df] = old_data.dfs[df].scd.update(new_data.dfs[df])"
   ],
   "metadata": {
    "collapsed": false
   }
  },
  {
   "cell_type": "markdown",
   "source": [
    "Создаем локальные копии, которые в дальнейшем будем использовать для измерения качества данных"
   ],
   "metadata": {
    "collapsed": false
   }
  },
  {
   "cell_type": "code",
   "execution_count": 26,
   "outputs": [],
   "source": [
    "old_data.create_local_copies()"
   ],
   "metadata": {
    "collapsed": false
   }
  },
  {
   "cell_type": "markdown",
   "source": [
    "## Задание 2.2 Качество данных"
   ],
   "metadata": {
    "id": "K4ojBGB6G8F4"
   }
  },
  {
   "cell_type": "markdown",
   "source": [
    "Необходимо выбрать не менее трех характеристик качества данных и сделать профилирование данных, которое позволит измерить эти характеристики. Например, полнота и визуализация, на которой видны пропущенные значения."
   ],
   "metadata": {
    "id": "rgWDUVnUG07D"
   }
  },
  {
   "cell_type": "markdown",
   "source": [
    "В 1996 году Ричард Уанг и Дайана Стронг предложили модель оценки качества данных по следующим 15 параметрам (измерениям) их восприятия потребителями\n",
    "* Качество данных как таковых:\n",
    "1. точность;\n",
    "2. объективность;\n",
    "3. убедительность;\n",
    "4. репутация источника.\n",
    "* Контекстуальное качество данных:\n",
    "1. полезность;\n",
    "2. релевантность;\n",
    "3. актуальность;\n",
    "4. полнота;\n",
    "5. достаточность объема данных.\n",
    "* Репрезентативность:\n",
    "1. интерпретируемость;\n",
    "2. понятность;\n",
    "3. логичность представления;\n",
    "4. лаконичность представления.\n",
    "* Наличие подтверждения качества данных:\n",
    "1. доступность;\n",
    "2. безопасность доступа и защита от несанкционированного доступа."
   ],
   "metadata": {
    "id": "Sfz81GFTfi_c"
   }
  },
  {
   "cell_type": "markdown",
   "source": [
    "В этой работе рассмотрим следующие:\n",
    "1. точность (accuracy),\n",
    "2. завершенность (completeness),\n",
    "3."
   ],
   "metadata": {
    "id": "FmxmA_nBhizp"
   }
  },
  {
   "cell_type": "code",
   "source": [
    "old_data.dfs[\"editors\"]"
   ],
   "metadata": {
    "id": "rLfuJBYyfxcS"
   },
   "execution_count": 29,
   "outputs": [
    {
     "data": {
      "text/plain": "         id username first_name   last_name                email isu_number  \\\n15    100.0   165829      Дарья  Плужникова                          165829   \n13   1004.0   165700  Екатерина    Колесник                          165700   \n60    102.0   145740      Алена     Иванова    aeivanova@itmo.ru     145740   \n30   1033.0   307875     Дарина    Клименко                          307875   \n94   1034.0   166046      Елена     Сучкова                          166046   \n..      ...      ...        ...         ...                  ...        ...   \n101   942.0   223648     Оксана   Солдатова  ovsoldatova@itmo.ru     223648   \n22    946.0   338220      Илана      Розман                          338220   \n11     97.0   276726       Анна     Карпова    aukarpova@itmo.ru     276726   \n29    971.0   104397       Анна      Орлова                          104397   \n119    99.0   143758    Алексей     Романов      romanov@itmo.ru     143758   \n\n    effective_date  status  \n15      10_10_2023    True  \n13      10_10_2023    True  \n60      10_10_2023    True  \n30      10_10_2023    True  \n94      10_10_2023    True  \n..             ...     ...  \n101     10_10_2023    True  \n22      10_10_2023    True  \n11      10_10_2023    True  \n29      10_10_2023    True  \n119     10_10_2023    True  \n\n[154 rows x 8 columns]",
      "text/html": "<div>\n<style scoped>\n    .dataframe tbody tr th:only-of-type {\n        vertical-align: middle;\n    }\n\n    .dataframe tbody tr th {\n        vertical-align: top;\n    }\n\n    .dataframe thead th {\n        text-align: right;\n    }\n</style>\n<table border=\"1\" class=\"dataframe\">\n  <thead>\n    <tr style=\"text-align: right;\">\n      <th></th>\n      <th>id</th>\n      <th>username</th>\n      <th>first_name</th>\n      <th>last_name</th>\n      <th>email</th>\n      <th>isu_number</th>\n      <th>effective_date</th>\n      <th>status</th>\n    </tr>\n  </thead>\n  <tbody>\n    <tr>\n      <th>15</th>\n      <td>100.0</td>\n      <td>165829</td>\n      <td>Дарья</td>\n      <td>Плужникова</td>\n      <td></td>\n      <td>165829</td>\n      <td>10_10_2023</td>\n      <td>True</td>\n    </tr>\n    <tr>\n      <th>13</th>\n      <td>1004.0</td>\n      <td>165700</td>\n      <td>Екатерина</td>\n      <td>Колесник</td>\n      <td></td>\n      <td>165700</td>\n      <td>10_10_2023</td>\n      <td>True</td>\n    </tr>\n    <tr>\n      <th>60</th>\n      <td>102.0</td>\n      <td>145740</td>\n      <td>Алена</td>\n      <td>Иванова</td>\n      <td>aeivanova@itmo.ru</td>\n      <td>145740</td>\n      <td>10_10_2023</td>\n      <td>True</td>\n    </tr>\n    <tr>\n      <th>30</th>\n      <td>1033.0</td>\n      <td>307875</td>\n      <td>Дарина</td>\n      <td>Клименко</td>\n      <td></td>\n      <td>307875</td>\n      <td>10_10_2023</td>\n      <td>True</td>\n    </tr>\n    <tr>\n      <th>94</th>\n      <td>1034.0</td>\n      <td>166046</td>\n      <td>Елена</td>\n      <td>Сучкова</td>\n      <td></td>\n      <td>166046</td>\n      <td>10_10_2023</td>\n      <td>True</td>\n    </tr>\n    <tr>\n      <th>...</th>\n      <td>...</td>\n      <td>...</td>\n      <td>...</td>\n      <td>...</td>\n      <td>...</td>\n      <td>...</td>\n      <td>...</td>\n      <td>...</td>\n    </tr>\n    <tr>\n      <th>101</th>\n      <td>942.0</td>\n      <td>223648</td>\n      <td>Оксана</td>\n      <td>Солдатова</td>\n      <td>ovsoldatova@itmo.ru</td>\n      <td>223648</td>\n      <td>10_10_2023</td>\n      <td>True</td>\n    </tr>\n    <tr>\n      <th>22</th>\n      <td>946.0</td>\n      <td>338220</td>\n      <td>Илана</td>\n      <td>Розман</td>\n      <td></td>\n      <td>338220</td>\n      <td>10_10_2023</td>\n      <td>True</td>\n    </tr>\n    <tr>\n      <th>11</th>\n      <td>97.0</td>\n      <td>276726</td>\n      <td>Анна</td>\n      <td>Карпова</td>\n      <td>aukarpova@itmo.ru</td>\n      <td>276726</td>\n      <td>10_10_2023</td>\n      <td>True</td>\n    </tr>\n    <tr>\n      <th>29</th>\n      <td>971.0</td>\n      <td>104397</td>\n      <td>Анна</td>\n      <td>Орлова</td>\n      <td></td>\n      <td>104397</td>\n      <td>10_10_2023</td>\n      <td>True</td>\n    </tr>\n    <tr>\n      <th>119</th>\n      <td>99.0</td>\n      <td>143758</td>\n      <td>Алексей</td>\n      <td>Романов</td>\n      <td>romanov@itmo.ru</td>\n      <td>143758</td>\n      <td>10_10_2023</td>\n      <td>True</td>\n    </tr>\n  </tbody>\n</table>\n<p>154 rows × 8 columns</p>\n</div>"
     },
     "execution_count": 29,
     "metadata": {},
     "output_type": "execute_result"
    }
   ]
  },
  {
   "cell_type": "markdown",
   "source": [
    "## Задание 2.3 Метаданные"
   ],
   "metadata": {
    "id": "H89NcA5FHI4X"
   }
  },
  {
   "cell_type": "markdown",
   "source": [
    "Подготовьте наиболее полные метаданные по данным, полученным в задании 2.1"
   ],
   "metadata": {
    "id": "Z9XtlpnvHMZI"
   }
  },
  {
   "cell_type": "markdown",
   "source": [
    "# Критерии и баллы"
   ],
   "metadata": {
    "id": "b-k-eKq5MkyB"
   }
  },
  {
   "cell_type": "markdown",
   "source": [
    "Распределение исходя из 30 баллов.\n",
    "\n",
    "\n",
    "\n",
    "*   2.0 - 1 балл\n",
    "*   2.1 - 8 баллов\n",
    "*   2.2 - 12 баллов\n",
    "*   2.3 - 9 баллов\n",
    "\n"
   ],
   "metadata": {
    "id": "iFGaNbrYMooV"
   }
  }
 ]
}
