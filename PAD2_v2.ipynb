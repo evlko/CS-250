{
 "nbformat": 4,
 "nbformat_minor": 0,
 "metadata": {
  "colab": {
   "provenance": []
  },
  "kernelspec": {
   "name": "python3",
   "display_name": "Python 3"
  }
 },
 "cells": [
  {
   "cell_type": "markdown",
   "source": [
    "# Упражнение 2. Качество данных"
   ],
   "metadata": {
    "id": "eynQNPljDZiT"
   }
  },
  {
   "cell_type": "markdown",
   "source": [
    "## Utils"
   ],
   "metadata": {
    "id": "0sdIdmQEjF1g"
   }
  },
  {
   "cell_type": "code",
   "source": [
    "import pandas as pd\n",
    "import utils.scd as scd\n",
    "from datetime import date, datetime, timedelta\n",
    "import warnings\n",
    "\n",
    "warnings.filterwarnings('ignore', message=\"registration of accessor <class '__main__.CustomAccessor'>\")\n",
    "warnings.filterwarnings('ignore', message=\"registration of accessor <class '__main__.SCD'>\")\n",
    "warnings.simplefilter(action='ignore', category=FutureWarning)"
   ],
   "metadata": {
    "id": "BXL0ATPzpx1B"
   },
   "execution_count": 2,
   "outputs": []
  },
  {
   "cell_type": "markdown",
   "source": [
    "## Задание 2.0"
   ],
   "metadata": {
    "id": "uJlXlo3cHUsa"
   }
  },
  {
   "cell_type": "markdown",
   "source": [
    "В упражнении 1 уже скачивали данные об учебных планах. Убедитесь в том, что эти данные у вас сохранились."
   ],
   "metadata": {
    "id": "jLFXDDbFWhAY"
   }
  },
  {
   "cell_type": "code",
   "source": [
    "%ls data"
   ],
   "metadata": {
    "colab": {
     "base_uri": "https://localhost:8080/"
    },
    "id": "UykCNgApl4uu",
    "outputId": "82b64216-fb0b-4374-8ec2-6c6f05191b30"
   },
   "execution_count": 3,
   "outputs": [
    {
     "name": "stdout",
     "output_type": "stream",
     "text": [
      "academic_plan_id.csv\r\n",
      "academic_plan_id.csv.dvc\r\n",
      "academic_plans.csv\r\n",
      "academic_plans.csv.dvc\r\n",
      "academic_plans_in_field_of_study.csv\r\n",
      "academic_plans_in_field_of_study.csv.dvc\r\n",
      "all_details.json\r\n",
      "all_details.json.dvc\r\n",
      "all_details_24_10_2023.json\r\n",
      "blocks.csv\r\n",
      "blocks.csv.dvc\r\n",
      "change_blocks_of_work_programs_in_modules.csv\r\n",
      "change_blocks_of_work_programs_in_modules.csv.dvc\r\n",
      "editors.csv\r\n",
      "editors.csv.dvc\r\n",
      "fields_of_study.csv\r\n",
      "fields_of_study.csv.dvc\r\n",
      "gia.csv\r\n",
      "gia.csv.dvc\r\n",
      "ids_231023.csv\r\n",
      "modules.csv\r\n",
      "modules.csv.dvc\r\n",
      "practice.csv\r\n",
      "practice.csv.dvc\r\n",
      "structural_units.csv\r\n",
      "structural_units.csv.dvc\r\n",
      "work_programs.csv\r\n",
      "work_programs.csv.dvc\r\n",
      "zuns_for_wp.csv\r\n",
      "zuns_for_wp.csv.dvc\r\n",
      "zuns_in_wp.csv\r\n",
      "zuns_in_wp.csv.dvc\r\n"
     ]
    }
   ]
  },
  {
   "cell_type": "markdown",
   "source": [
    "## Задание 2.1 Получение данных"
   ],
   "metadata": {
    "id": "co5e9ZLAFFm7"
   }
  },
  {
   "cell_type": "code",
   "source": [
    "from utils.data_collector import OPITMODataCollector\n",
    "\n",
    "data_collector = OPITMODataCollector()"
   ],
   "metadata": {
    "id": "UEvB5aGRqVqR"
   },
   "execution_count": 4,
   "outputs": [
    {
     "name": "stderr",
     "output_type": "stream",
     "text": [
      "/Users/eispoohw/University/PythonForDataAnalysis/venv/lib/python3.9/site-packages/urllib3/__init__.py:34: NotOpenSSLWarning: urllib3 v2.0 only supports OpenSSL 1.1.1+, currently the 'ssl' module is compiled with 'LibreSSL 2.8.3'. See: https://github.com/urllib3/urllib3/issues/3020\n",
      "  warnings.warn(\n"
     ]
    }
   ]
  },
  {
   "cell_type": "markdown",
   "source": [
    "Идентификаторы всех учебных планов, имеющихся в op.itmo.ru"
   ],
   "metadata": {
    "id": "d-k6MTvqWziD"
   }
  },
  {
   "cell_type": "code",
   "source": [
    "# Get new ids from API:\n",
    "# ids = data_collector.get_academic_plans_ids()\n",
    "# ids = list(ids)\n",
    "\n",
    "# User stored ids in DVC:\n",
    "ids = data_collector.get_data('data/academic_plan_id')['academic_plan_id'].tolist()"
   ],
   "metadata": {
    "id": "ZTMIWINHqkUH"
   },
   "execution_count": 5,
   "outputs": []
  },
  {
   "cell_type": "code",
   "execution_count": 6,
   "outputs": [
    {
     "data": {
      "text/plain": "     academic_plan_id\n0                6796\n1                6797\n2                6798\n3                6799\n4                6800\n..                ...\n593              7501\n594              7502\n595              7503\n596              7504\n597              7505\n\n[598 rows x 1 columns]",
      "text/html": "<div>\n<style scoped>\n    .dataframe tbody tr th:only-of-type {\n        vertical-align: middle;\n    }\n\n    .dataframe tbody tr th {\n        vertical-align: top;\n    }\n\n    .dataframe thead th {\n        text-align: right;\n    }\n</style>\n<table border=\"1\" class=\"dataframe\">\n  <thead>\n    <tr style=\"text-align: right;\">\n      <th></th>\n      <th>academic_plan_id</th>\n    </tr>\n  </thead>\n  <tbody>\n    <tr>\n      <th>0</th>\n      <td>6796</td>\n    </tr>\n    <tr>\n      <th>1</th>\n      <td>6797</td>\n    </tr>\n    <tr>\n      <th>2</th>\n      <td>6798</td>\n    </tr>\n    <tr>\n      <th>3</th>\n      <td>6799</td>\n    </tr>\n    <tr>\n      <th>4</th>\n      <td>6800</td>\n    </tr>\n    <tr>\n      <th>...</th>\n      <td>...</td>\n    </tr>\n    <tr>\n      <th>593</th>\n      <td>7501</td>\n    </tr>\n    <tr>\n      <th>594</th>\n      <td>7502</td>\n    </tr>\n    <tr>\n      <th>595</th>\n      <td>7503</td>\n    </tr>\n    <tr>\n      <th>596</th>\n      <td>7504</td>\n    </tr>\n    <tr>\n      <th>597</th>\n      <td>7505</td>\n    </tr>\n  </tbody>\n</table>\n<p>598 rows × 1 columns</p>\n</div>"
     },
     "execution_count": 6,
     "metadata": {},
     "output_type": "execute_result"
    }
   ],
   "source": [
    "df_aps = pd.DataFrame(ids, columns=['academic_plan_id'])\n",
    "df_aps.custom.to_csv_with_time('academic_plan_id')\n",
    "df_aps"
   ],
   "metadata": {
    "collapsed": false
   }
  },
  {
   "cell_type": "code",
   "source": [
    "# Save collected data in DVC\n",
    "# data_collector.save_data(df_aps, 'academic_plan_id')\n",
    "\n",
    "# Or Local\n",
    "# df_aps.to_csv(f'data/ids_{time.time()}.csv')"
   ],
   "metadata": {
    "id": "pwa4DCerq2qe"
   },
   "execution_count": 7,
   "outputs": []
  },
  {
   "cell_type": "markdown",
   "source": [
    "По этим планам получить детальное описание"
   ],
   "metadata": {
    "id": "QInATqLvFX3Y"
   }
  },
  {
   "cell_type": "code",
   "source": [
    "# Update data via API:\n",
    "# all_details = data_collector.get_academic_plan_details(list(ids))\n",
    "\n",
    "# User stored data in DVC:\n",
    "all_details = data_collector.get_data('data/all_details', file_type='json')"
   ],
   "metadata": {
    "id": "PPythBr-rA3k"
   },
   "execution_count": 8,
   "outputs": []
  },
  {
   "cell_type": "code",
   "execution_count": 9,
   "outputs": [],
   "source": [
    "from utils.json_dict_converter import JsonDictConverter"
   ],
   "metadata": {
    "collapsed": false
   }
  },
  {
   "cell_type": "code",
   "source": [
    "# Save collected data in DVC\n",
    "# data_collector.save_data(all_details, 'all_details')\n",
    "\n",
    "# Or Local\n",
    "# JsonDictConverter().to_json(all_details, json_name='data/all_details', timed=True)"
   ],
   "metadata": {
    "id": "fwiy4zCkFiQN"
   },
   "execution_count": 10,
   "outputs": []
  },
  {
   "cell_type": "markdown",
   "source": [
    "Медленно меняющиеся измерения (от англ. Slowly Changing Dimensions, SCD) — механизм отслеживания изменений в данных измерения. [Выделяют несколько типов SCD2. ](https://ru.wikipedia.org/wiki/%D0%9C%D0%B5%D0%B4%D0%BB%D0%B5%D0%BD%D0%BD%D0%BE_%D0%BC%D0%B5%D0%BD%D1%8F%D1%8E%D1%89%D0%B5%D0%B5%D1%81%D1%8F_%D0%B8%D0%B7%D0%BC%D0%B5%D1%80%D0%B5%D0%BD%D0%B8%D0%B5).\n",
    "\n",
    "Реализуйте механизм SCD2. Добавилась строка и столбцы с датой вступления изменения в силу (столбце с TRUE/FALSE необязательно)\n",
    "\n"
   ],
   "metadata": {
    "id": "Dh191yVjnTpT"
   }
  },
  {
   "cell_type": "markdown",
   "source": [
    "Мы решили добавлять колонку со статусом, чтобы отслеживать **полностью удаленные** значения."
   ],
   "metadata": {
    "id": "ULLt5FnfJALA"
   }
  },
  {
   "cell_type": "markdown",
   "source": [
    "Получаем новые данные"
   ],
   "metadata": {
    "collapsed": false
   }
  },
  {
   "cell_type": "code",
   "execution_count": 11,
   "outputs": [],
   "source": [
    "from utils.data_extractor import DataExtractor\n",
    "\n",
    "data = JsonDictConverter().from_json(\"data/all_details_24_10_2023\")\n",
    "\n",
    "new_data = DataExtractor(data, update=True)"
   ],
   "metadata": {
    "collapsed": false
   }
  },
  {
   "cell_type": "markdown",
   "source": [
    "Получаем старые данные"
   ],
   "metadata": {
    "collapsed": false
   }
  },
  {
   "cell_type": "code",
   "execution_count": 12,
   "outputs": [],
   "source": [
    "data = JsonDictConverter().from_json(\"data/all_details\")\n",
    "\n",
    "old_data = DataExtractor(data, update=True)"
   ],
   "metadata": {
    "collapsed": false
   }
  },
  {
   "cell_type": "markdown",
   "source": [
    "Старым данным добавляем функционал scd"
   ],
   "metadata": {
    "collapsed": false
   }
  },
  {
   "cell_type": "code",
   "execution_count": 13,
   "outputs": [],
   "source": [
    "for df in old_data.dfs:\n",
    "    old_data.dfs[df].scd.add_effective_date(current_date=datetime.now()-timedelta(14), inplace=True)\n",
    "    old_data.dfs[df].scd.add_status(inplace=True)"
   ],
   "metadata": {
    "collapsed": false
   }
  },
  {
   "cell_type": "markdown",
   "source": [
    "К старым данным добавляем новые данные"
   ],
   "metadata": {
    "collapsed": false
   }
  },
  {
   "cell_type": "code",
   "execution_count": 14,
   "outputs": [],
   "source": [
    "for df in old_data.dfs:\n",
    "    old_data.dfs[df] = old_data.dfs[df].scd.update(new_data.dfs[df])"
   ],
   "metadata": {
    "collapsed": false
   }
  },
  {
   "cell_type": "markdown",
   "source": [
    "Создаем локальные копии, которые в дальнейшем будем использовать для измерения качества данных"
   ],
   "metadata": {
    "collapsed": false
   }
  },
  {
   "cell_type": "code",
   "execution_count": 15,
   "outputs": [],
   "source": [
    "# old_data.create_local_copies()"
   ],
   "metadata": {
    "collapsed": false
   }
  },
  {
   "cell_type": "code",
   "execution_count": 16,
   "outputs": [
    {
     "data": {
      "text/plain": "       id                                educational_profile  \\\n11   6796                                               None   \n24   6797                                               None   \n23   6798                                               None   \n39   6799                                               None   \n45   6800                                               None   \n..    ...                                                ...   \n552  7501                                               None   \n581  7502                                               None   \n579  7503                 Прикладной искусственный интеллект   \n586  7504  Робототехника и искусственный интеллект / Robo...   \n578  7505                                             План Б   \n\n                   approval_date  year education_form qualification  author  \\\n11   2022-06-30T14:50:11.150290Z  None           None          None     nan   \n24   2022-06-30T14:50:17.243197Z  None           None          None     nan   \n23   2022-06-30T14:50:22.339883Z  None           None          None     nan   \n39   2022-06-30T14:50:27.170749Z  None           None          None     nan   \n45   2022-06-30T14:50:32.267266Z  None           None          None     nan   \n..                           ...   ...            ...           ...     ...   \n552  2023-07-06T09:03:20.277192Z  None           None        master     nan   \n581  2023-07-26T14:35:33.067316Z  None           None        master     nan   \n579  2023-09-13T11:08:51.611879Z  2023       internal      bachelor   255.0   \n586  2023-10-06T11:11:04.613383Z  2023       internal        master  4680.0   \n578  2023-10-09T16:12:31.803445Z  2023       internal      bachelor  4680.0   \n\n    ap_isu_id  on_check laboriousness can_edit can_validate was_send_to_isu  \\\n11    10572.0   in_work           393    False        False           False   \n24    10571.0   in_work           311    False        False           False   \n23    14637.0   in_work           227    False        False           False   \n39    10574.0   in_work           352    False        False           False   \n45    10575.0   in_work           296    False        False           False   \n..        ...       ...           ...      ...          ...             ...   \n552   28257.0  verified           120    False        False            True   \n581   28389.0  on_check           120    False        False           False   \n579       nan   in_work             0    False        False           False   \n586       nan  verified            36    False        False           False   \n578       nan   in_work             6    False        False           False   \n\n    rating discipline_blocks_in_academic_plan_id  \\\n11   False          [26991, 26992, 26993, 26990]   \n24   False          [26994, 26995, 26996, 26997]   \n23   False          [26999, 27000, 27001, 28860]   \n39   False          [27003, 27004, 27005, 27002]   \n45   False          [27007, 27008, 27009, 27006]   \n..     ...                                   ...   \n552  False          [30059, 30060, 30046, 30047]   \n581  False          [30048, 30049, 30050, 30051]   \n579  False          [30062, 30063, 30064, 30065]   \n586  False          [30066, 30067, 30068, 30069]   \n578  False          [30070, 30071, 30072, 30073]   \n\n    academic_plan_in_field_of_study_id effective_date  status  \n11                                6859     10_10_2023    True  \n24                                6860     10_10_2023    True  \n23                                6861     10_10_2023    True  \n39                                6862     10_10_2023    True  \n45                                6863     10_10_2023    True  \n..                                 ...            ...     ...  \n552                               7654     10_10_2023    True  \n581                               7655     10_10_2023    True  \n579                               7656     10_10_2023    True  \n586                               7657     10_10_2023    True  \n578                               7658     10_10_2023    True  \n\n[598 rows x 18 columns]",
      "text/html": "<div>\n<style scoped>\n    .dataframe tbody tr th:only-of-type {\n        vertical-align: middle;\n    }\n\n    .dataframe tbody tr th {\n        vertical-align: top;\n    }\n\n    .dataframe thead th {\n        text-align: right;\n    }\n</style>\n<table border=\"1\" class=\"dataframe\">\n  <thead>\n    <tr style=\"text-align: right;\">\n      <th></th>\n      <th>id</th>\n      <th>educational_profile</th>\n      <th>approval_date</th>\n      <th>year</th>\n      <th>education_form</th>\n      <th>qualification</th>\n      <th>author</th>\n      <th>ap_isu_id</th>\n      <th>on_check</th>\n      <th>laboriousness</th>\n      <th>can_edit</th>\n      <th>can_validate</th>\n      <th>was_send_to_isu</th>\n      <th>rating</th>\n      <th>discipline_blocks_in_academic_plan_id</th>\n      <th>academic_plan_in_field_of_study_id</th>\n      <th>effective_date</th>\n      <th>status</th>\n    </tr>\n  </thead>\n  <tbody>\n    <tr>\n      <th>11</th>\n      <td>6796</td>\n      <td>None</td>\n      <td>2022-06-30T14:50:11.150290Z</td>\n      <td>None</td>\n      <td>None</td>\n      <td>None</td>\n      <td>nan</td>\n      <td>10572.0</td>\n      <td>in_work</td>\n      <td>393</td>\n      <td>False</td>\n      <td>False</td>\n      <td>False</td>\n      <td>False</td>\n      <td>[26991, 26992, 26993, 26990]</td>\n      <td>6859</td>\n      <td>10_10_2023</td>\n      <td>True</td>\n    </tr>\n    <tr>\n      <th>24</th>\n      <td>6797</td>\n      <td>None</td>\n      <td>2022-06-30T14:50:17.243197Z</td>\n      <td>None</td>\n      <td>None</td>\n      <td>None</td>\n      <td>nan</td>\n      <td>10571.0</td>\n      <td>in_work</td>\n      <td>311</td>\n      <td>False</td>\n      <td>False</td>\n      <td>False</td>\n      <td>False</td>\n      <td>[26994, 26995, 26996, 26997]</td>\n      <td>6860</td>\n      <td>10_10_2023</td>\n      <td>True</td>\n    </tr>\n    <tr>\n      <th>23</th>\n      <td>6798</td>\n      <td>None</td>\n      <td>2022-06-30T14:50:22.339883Z</td>\n      <td>None</td>\n      <td>None</td>\n      <td>None</td>\n      <td>nan</td>\n      <td>14637.0</td>\n      <td>in_work</td>\n      <td>227</td>\n      <td>False</td>\n      <td>False</td>\n      <td>False</td>\n      <td>False</td>\n      <td>[26999, 27000, 27001, 28860]</td>\n      <td>6861</td>\n      <td>10_10_2023</td>\n      <td>True</td>\n    </tr>\n    <tr>\n      <th>39</th>\n      <td>6799</td>\n      <td>None</td>\n      <td>2022-06-30T14:50:27.170749Z</td>\n      <td>None</td>\n      <td>None</td>\n      <td>None</td>\n      <td>nan</td>\n      <td>10574.0</td>\n      <td>in_work</td>\n      <td>352</td>\n      <td>False</td>\n      <td>False</td>\n      <td>False</td>\n      <td>False</td>\n      <td>[27003, 27004, 27005, 27002]</td>\n      <td>6862</td>\n      <td>10_10_2023</td>\n      <td>True</td>\n    </tr>\n    <tr>\n      <th>45</th>\n      <td>6800</td>\n      <td>None</td>\n      <td>2022-06-30T14:50:32.267266Z</td>\n      <td>None</td>\n      <td>None</td>\n      <td>None</td>\n      <td>nan</td>\n      <td>10575.0</td>\n      <td>in_work</td>\n      <td>296</td>\n      <td>False</td>\n      <td>False</td>\n      <td>False</td>\n      <td>False</td>\n      <td>[27007, 27008, 27009, 27006]</td>\n      <td>6863</td>\n      <td>10_10_2023</td>\n      <td>True</td>\n    </tr>\n    <tr>\n      <th>...</th>\n      <td>...</td>\n      <td>...</td>\n      <td>...</td>\n      <td>...</td>\n      <td>...</td>\n      <td>...</td>\n      <td>...</td>\n      <td>...</td>\n      <td>...</td>\n      <td>...</td>\n      <td>...</td>\n      <td>...</td>\n      <td>...</td>\n      <td>...</td>\n      <td>...</td>\n      <td>...</td>\n      <td>...</td>\n      <td>...</td>\n    </tr>\n    <tr>\n      <th>552</th>\n      <td>7501</td>\n      <td>None</td>\n      <td>2023-07-06T09:03:20.277192Z</td>\n      <td>None</td>\n      <td>None</td>\n      <td>master</td>\n      <td>nan</td>\n      <td>28257.0</td>\n      <td>verified</td>\n      <td>120</td>\n      <td>False</td>\n      <td>False</td>\n      <td>True</td>\n      <td>False</td>\n      <td>[30059, 30060, 30046, 30047]</td>\n      <td>7654</td>\n      <td>10_10_2023</td>\n      <td>True</td>\n    </tr>\n    <tr>\n      <th>581</th>\n      <td>7502</td>\n      <td>None</td>\n      <td>2023-07-26T14:35:33.067316Z</td>\n      <td>None</td>\n      <td>None</td>\n      <td>master</td>\n      <td>nan</td>\n      <td>28389.0</td>\n      <td>on_check</td>\n      <td>120</td>\n      <td>False</td>\n      <td>False</td>\n      <td>False</td>\n      <td>False</td>\n      <td>[30048, 30049, 30050, 30051]</td>\n      <td>7655</td>\n      <td>10_10_2023</td>\n      <td>True</td>\n    </tr>\n    <tr>\n      <th>579</th>\n      <td>7503</td>\n      <td>Прикладной искусственный интеллект</td>\n      <td>2023-09-13T11:08:51.611879Z</td>\n      <td>2023</td>\n      <td>internal</td>\n      <td>bachelor</td>\n      <td>255.0</td>\n      <td>nan</td>\n      <td>in_work</td>\n      <td>0</td>\n      <td>False</td>\n      <td>False</td>\n      <td>False</td>\n      <td>False</td>\n      <td>[30062, 30063, 30064, 30065]</td>\n      <td>7656</td>\n      <td>10_10_2023</td>\n      <td>True</td>\n    </tr>\n    <tr>\n      <th>586</th>\n      <td>7504</td>\n      <td>Робототехника и искусственный интеллект / Robo...</td>\n      <td>2023-10-06T11:11:04.613383Z</td>\n      <td>2023</td>\n      <td>internal</td>\n      <td>master</td>\n      <td>4680.0</td>\n      <td>nan</td>\n      <td>verified</td>\n      <td>36</td>\n      <td>False</td>\n      <td>False</td>\n      <td>False</td>\n      <td>False</td>\n      <td>[30066, 30067, 30068, 30069]</td>\n      <td>7657</td>\n      <td>10_10_2023</td>\n      <td>True</td>\n    </tr>\n    <tr>\n      <th>578</th>\n      <td>7505</td>\n      <td>План Б</td>\n      <td>2023-10-09T16:12:31.803445Z</td>\n      <td>2023</td>\n      <td>internal</td>\n      <td>bachelor</td>\n      <td>4680.0</td>\n      <td>nan</td>\n      <td>in_work</td>\n      <td>6</td>\n      <td>False</td>\n      <td>False</td>\n      <td>False</td>\n      <td>False</td>\n      <td>[30070, 30071, 30072, 30073]</td>\n      <td>7658</td>\n      <td>10_10_2023</td>\n      <td>True</td>\n    </tr>\n  </tbody>\n</table>\n<p>598 rows × 18 columns</p>\n</div>"
     },
     "execution_count": 16,
     "metadata": {},
     "output_type": "execute_result"
    }
   ],
   "source": [
    "old_data.dfs['academic_plans']"
   ],
   "metadata": {
    "collapsed": false
   }
  },
  {
   "cell_type": "markdown",
   "source": [
    "## Задание 2.2 Качество данных"
   ],
   "metadata": {
    "id": "K4ojBGB6G8F4"
   }
  },
  {
   "cell_type": "markdown",
   "source": [
    "Необходимо выбрать не менее трех характеристик качества данных и сделать профилирование данных, которое позволит измерить эти характеристики. Например, полнота и визуализация, на которой видны пропущенные значения."
   ],
   "metadata": {
    "id": "rgWDUVnUG07D"
   }
  },
  {
   "cell_type": "markdown",
   "source": [
    "В 1996 году Ричард Уанг и Дайана Стронг предложили модель оценки качества данных по следующим 15 параметрам (измерениям) их восприятия потребителями\n",
    "* Качество данных как таковых:\n",
    "1. точность;\n",
    "2. объективность;\n",
    "3. убедительность;\n",
    "4. репутация источника.\n",
    "* Контекстуальное качество данных:\n",
    "1. полезность;\n",
    "2. релевантность;\n",
    "3. актуальность;\n",
    "4. полнота;\n",
    "5. достаточность объема данных.\n",
    "* Репрезентативность:\n",
    "1. интерпретируемость;\n",
    "2. понятность;\n",
    "3. логичность представления;\n",
    "4. лаконичность представления.\n",
    "* Наличие подтверждения качества данных:\n",
    "1. доступность;\n",
    "2. безопасность доступа и защита от несанкционированного доступа."
   ],
   "metadata": {
    "id": "Sfz81GFTfi_c"
   }
  },
  {
   "cell_type": "markdown",
   "source": [
    "В этой работе рассмотрим следующие:\n",
    "1. точность (accuracy),\n",
    "2. завершенность (completeness),\n",
    "3."
   ],
   "metadata": {
    "id": "FmxmA_nBhizp"
   }
  },
  {
   "cell_type": "markdown",
   "source": [
    "## Задание 2.3 Метаданные"
   ],
   "metadata": {
    "id": "H89NcA5FHI4X"
   }
  },
  {
   "cell_type": "markdown",
   "source": [
    "Подготовьте наиболее полные метаданные по данным, полученным в задании 2.1"
   ],
   "metadata": {
    "id": "Z9XtlpnvHMZI"
   }
  },
  {
   "cell_type": "markdown",
   "source": [
    "Данные содержатся в следующих таблицах"
   ],
   "metadata": {
    "collapsed": false
   }
  },
  {
   "cell_type": "code",
   "execution_count": 17,
   "outputs": [
    {
     "name": "stdout",
     "output_type": "stream",
     "text": [
      "Tables:\n",
      "-- academic_plans\n",
      "-- academic_plans_in_field_of_study\n",
      "-- structural_units\n",
      "-- fields_of_study\n",
      "-- editors\n",
      "-- blocks\n",
      "-- modules\n",
      "-- change_blocks_of_work_programs_in_modules\n",
      "-- work_programs\n",
      "-- gia\n",
      "-- practice\n",
      "-- zuns_for_wp\n",
      "-- zuns_in_wp\n"
     ]
    }
   ],
   "source": [
    "print('Tables:', *old_data.dfs.keys(), sep='\\n-- ')"
   ],
   "metadata": {
    "collapsed": false
   }
  },
  {
   "cell_type": "markdown",
   "source": [
    "Чтобы получить данные, необходимо склонировать репозиторий https://github.com/evlko/CS-250/tree/main , заполнить .env файл валидными данными и выполнить команды `make load_devc`, `make set_dvc`. После этого соответствующие таблица появятся в папке data с расширением .csv"
   ],
   "metadata": {
    "collapsed": false
   }
  },
  {
   "cell_type": "markdown",
   "source": [
    "Изначально данные взяты с https://op.itmo.ru/api"
   ],
   "metadata": {
    "collapsed": false
   }
  },
  {
   "cell_type": "markdown",
   "source": [
    "Детальнее данные рассмотрим ниже:"
   ],
   "metadata": {
    "collapsed": false
   }
  },
  {
   "cell_type": "code",
   "execution_count": 18,
   "outputs": [],
   "source": [
    "from utils.data_info import DataInfo"
   ],
   "metadata": {
    "collapsed": false
   }
  },
  {
   "cell_type": "code",
   "execution_count": 19,
   "outputs": [],
   "source": [
    "dig = DataInfo.print_info_gen(old_data.dfs)"
   ],
   "metadata": {
    "collapsed": false
   }
  },
  {
   "cell_type": "code",
   "execution_count": 20,
   "outputs": [
    {
     "name": "stdout",
     "output_type": "stream",
     "text": [
      "DATA INFO\n",
      "academic_plans\n",
      "Таблица с академическими планами.\n",
      "\t-id [Int, NOTNULL] - идентификатор академического плана\n",
      "\t-educational_profile [Str] - образовательный профиль\n",
      "\t-approval_date [Datetime, NOTNULL] - дата подтверждения программы\n",
      "\t-year [Int] - год академического плана\n",
      "\t-education_form [Str] - образовательная форма\n",
      "\t-qualification [Enum(bachelor, master)] - бразовательная квалификация\n",
      "\t-author [Int] - автор образовательного плана\n",
      "\t-ap_isu_id [Int] - идентификатор академического плана в ISU\n",
      "\t-on_check [Enum('in_work', 'on_check', 'verified'), NOTNULL] - статус академического плана\n",
      "\t-laboriousness [Int, NOTNULL] - трудоемкость\n",
      "\t-can_edit [Boolean, NOTNULL] - возможность редактировать для текущего пользователя\n",
      "\t-can_validate [Boolean, NOTNULL] - возможность валидировать для текущего пользователя\n",
      "\t-was_send_to_isu [Boolean, NOTNULL] - был ли отправлен план в ISU\n",
      "\t-rating [Boolean, NOTNULL] - всегда равен False, рейтинг АП\n",
      "\t-discipline_blocks_in_academic_plan_id [List, NOTNULL] - блоки дисциплин для АП\n",
      "\t-academic_plan_in_field_of_study_id [Int, NOTNULL] - идентификатор АП в сфере образования\n",
      "\t-effective_date [Str, NOTNULL] - дата вступления в силу\n",
      "\t-status [Boolean, NOTNULL] - актуальность строки\n",
      "\n",
      "DF INFO\n",
      "<class 'pandas.core.frame.DataFrame'>\n",
      "Index: 598 entries, 11 to 578\n",
      "Data columns (total 18 columns):\n",
      " #   Column                                 Non-Null Count  Dtype \n",
      "---  ------                                 --------------  ----- \n",
      " 0   id                                     598 non-null    object\n",
      " 1   educational_profile                    598 non-null    object\n",
      " 2   approval_date                          598 non-null    object\n",
      " 3   year                                   598 non-null    object\n",
      " 4   education_form                         598 non-null    object\n",
      " 5   qualification                          598 non-null    object\n",
      " 6   author                                 598 non-null    object\n",
      " 7   ap_isu_id                              598 non-null    object\n",
      " 8   on_check                               598 non-null    object\n",
      " 9   laboriousness                          598 non-null    object\n",
      " 10  can_edit                               598 non-null    object\n",
      " 11  can_validate                           598 non-null    object\n",
      " 12  was_send_to_isu                        598 non-null    object\n",
      " 13  rating                                 598 non-null    object\n",
      " 14  discipline_blocks_in_academic_plan_id  598 non-null    object\n",
      " 15  academic_plan_in_field_of_study_id     598 non-null    object\n",
      " 16  effective_date                         598 non-null    object\n",
      " 17  status                                 598 non-null    bool  \n",
      "dtypes: bool(1), object(17)\n",
      "memory usage: 84.7+ KB\n",
      "None\n",
      "\n",
      "DATA SAMPLE\n"
     ]
    },
    {
     "data": {
      "text/plain": "       id educational_profile                approval_date  year  \\\n356  7204                None  2022-06-30T15:23:06.804397Z  None   \n450  7285                None  2022-10-15T10:06:01.657416Z  None   \n282  7081                None  2022-06-30T15:15:30.177210Z  None   \n164  6964                None  2022-06-30T15:05:49.536597Z  None   \n231  7032                None  2022-06-30T15:11:00.568258Z  None   \n\n    education_form qualification author ap_isu_id on_check laboriousness  \\\n356           None          None    nan   16657.0  in_work           518   \n450           None          None    nan   17797.0  in_work            29   \n282           None          None    nan   14584.0  in_work           264   \n164           None          None    nan   13366.0  in_work           129   \n231           None          None    nan   13861.0  in_work           378   \n\n    can_edit can_validate was_send_to_isu rating  \\\n356    False        False           False  False   \n450    False        False           False  False   \n282    False        False           False  False   \n164    False        False           False  False   \n231    False        False           False  False   \n\n    discipline_blocks_in_academic_plan_id academic_plan_in_field_of_study_id  \\\n356          [28620, 28622, 28623, 29016]                               7267   \n450                        [29291, 29290]                               7352   \n282          [28131, 28132, 28133, 28925]                               7144   \n164          [27663, 27664, 27665, 27662]                               7027   \n231          [27935, 27937, 27936, 28807]                               7095   \n\n    effective_date  status  \n356     10_10_2023    True  \n450     10_10_2023    True  \n282     10_10_2023    True  \n164     10_10_2023    True  \n231     10_10_2023    True  ",
      "text/html": "<div>\n<style scoped>\n    .dataframe tbody tr th:only-of-type {\n        vertical-align: middle;\n    }\n\n    .dataframe tbody tr th {\n        vertical-align: top;\n    }\n\n    .dataframe thead th {\n        text-align: right;\n    }\n</style>\n<table border=\"1\" class=\"dataframe\">\n  <thead>\n    <tr style=\"text-align: right;\">\n      <th></th>\n      <th>id</th>\n      <th>educational_profile</th>\n      <th>approval_date</th>\n      <th>year</th>\n      <th>education_form</th>\n      <th>qualification</th>\n      <th>author</th>\n      <th>ap_isu_id</th>\n      <th>on_check</th>\n      <th>laboriousness</th>\n      <th>can_edit</th>\n      <th>can_validate</th>\n      <th>was_send_to_isu</th>\n      <th>rating</th>\n      <th>discipline_blocks_in_academic_plan_id</th>\n      <th>academic_plan_in_field_of_study_id</th>\n      <th>effective_date</th>\n      <th>status</th>\n    </tr>\n  </thead>\n  <tbody>\n    <tr>\n      <th>356</th>\n      <td>7204</td>\n      <td>None</td>\n      <td>2022-06-30T15:23:06.804397Z</td>\n      <td>None</td>\n      <td>None</td>\n      <td>None</td>\n      <td>nan</td>\n      <td>16657.0</td>\n      <td>in_work</td>\n      <td>518</td>\n      <td>False</td>\n      <td>False</td>\n      <td>False</td>\n      <td>False</td>\n      <td>[28620, 28622, 28623, 29016]</td>\n      <td>7267</td>\n      <td>10_10_2023</td>\n      <td>True</td>\n    </tr>\n    <tr>\n      <th>450</th>\n      <td>7285</td>\n      <td>None</td>\n      <td>2022-10-15T10:06:01.657416Z</td>\n      <td>None</td>\n      <td>None</td>\n      <td>None</td>\n      <td>nan</td>\n      <td>17797.0</td>\n      <td>in_work</td>\n      <td>29</td>\n      <td>False</td>\n      <td>False</td>\n      <td>False</td>\n      <td>False</td>\n      <td>[29291, 29290]</td>\n      <td>7352</td>\n      <td>10_10_2023</td>\n      <td>True</td>\n    </tr>\n    <tr>\n      <th>282</th>\n      <td>7081</td>\n      <td>None</td>\n      <td>2022-06-30T15:15:30.177210Z</td>\n      <td>None</td>\n      <td>None</td>\n      <td>None</td>\n      <td>nan</td>\n      <td>14584.0</td>\n      <td>in_work</td>\n      <td>264</td>\n      <td>False</td>\n      <td>False</td>\n      <td>False</td>\n      <td>False</td>\n      <td>[28131, 28132, 28133, 28925]</td>\n      <td>7144</td>\n      <td>10_10_2023</td>\n      <td>True</td>\n    </tr>\n    <tr>\n      <th>164</th>\n      <td>6964</td>\n      <td>None</td>\n      <td>2022-06-30T15:05:49.536597Z</td>\n      <td>None</td>\n      <td>None</td>\n      <td>None</td>\n      <td>nan</td>\n      <td>13366.0</td>\n      <td>in_work</td>\n      <td>129</td>\n      <td>False</td>\n      <td>False</td>\n      <td>False</td>\n      <td>False</td>\n      <td>[27663, 27664, 27665, 27662]</td>\n      <td>7027</td>\n      <td>10_10_2023</td>\n      <td>True</td>\n    </tr>\n    <tr>\n      <th>231</th>\n      <td>7032</td>\n      <td>None</td>\n      <td>2022-06-30T15:11:00.568258Z</td>\n      <td>None</td>\n      <td>None</td>\n      <td>None</td>\n      <td>nan</td>\n      <td>13861.0</td>\n      <td>in_work</td>\n      <td>378</td>\n      <td>False</td>\n      <td>False</td>\n      <td>False</td>\n      <td>False</td>\n      <td>[27935, 27937, 27936, 28807]</td>\n      <td>7095</td>\n      <td>10_10_2023</td>\n      <td>True</td>\n    </tr>\n  </tbody>\n</table>\n</div>"
     },
     "execution_count": 20,
     "metadata": {},
     "output_type": "execute_result"
    }
   ],
   "source": [
    "next(dig)"
   ],
   "metadata": {
    "collapsed": false
   }
  },
  {
   "cell_type": "markdown",
   "source": [
    "# Критерии и баллы"
   ],
   "metadata": {
    "id": "b-k-eKq5MkyB"
   }
  },
  {
   "cell_type": "markdown",
   "source": [
    "Распределение исходя из 30 баллов.\n",
    "\n",
    "\n",
    "\n",
    "*   2.0 - 1 балл\n",
    "*   2.1 - 8 баллов\n",
    "*   2.2 - 12 баллов\n",
    "*   2.3 - 9 баллов\n",
    "\n"
   ],
   "metadata": {
    "id": "iFGaNbrYMooV"
   }
  }
 ]
}
